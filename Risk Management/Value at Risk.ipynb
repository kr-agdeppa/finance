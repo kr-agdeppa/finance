{
 "cells": [
  {
   "cell_type": "markdown",
   "id": "c1600948",
   "metadata": {},
   "source": [
    "# Value at Risk Analysis for a Semiconductor Portfolio\n",
    "Value at Risk (VaR) is a fundamental metric in risk management that estimates the potential loss of a portfolio or asset over a specific time period at a given confidence level, assuming normal market conditions. It provides investors with a quantifiable measure of risk exposure.\n",
    "\n",
    "There are **three** primary methods to calculate VaR:\n",
    "\n",
    "- ```Historical Method```: This method uses historical returns of a portfolio or asset to estimate potential losses. It ranks past returns and identifies the loss at the desired confidence level (e.g., the 5th percentile for a 95% VaR).\n",
    "\n",
    "- ```Variance-Covariance Method```: Assuming returns follow a normal distribution, this method uses the portfolio’s mean return and standard deviation, along with the variance-covariance matrix to account for correlations between assets, to calculate VaR.\n",
    "\n",
    "- ```Monte Carlo Simulation```: This method generates thousands of random scenarios based on statistical models of asset returns to estimate the distribution of potential losses and derive the VaR.\n",
    "\n",
    "VaR helps investors understand the maximum expected loss within a given timeframe and confidence level. For example, a 1-day VaR of $120,000 at a 95% confidence level for a semiconductor portfolio means there is a 5% chance that the portfolio could lose more than $120,000 in a single day under normal market conditions."
   ]
  },
  {
   "cell_type": "markdown",
   "id": "88f591e1",
   "metadata": {},
   "source": [
    "## Historical VaR"
   ]
  },
  {
   "cell_type": "markdown",
   "id": "f9cd148a",
   "metadata": {},
   "source": [
    "### Import the libraries"
   ]
  },
  {
   "cell_type": "code",
   "execution_count": 1,
   "id": "55be1f3f",
   "metadata": {},
   "outputs": [],
   "source": [
    "import pandas as pd\n",
    "import numpy as np\n",
    "from scipy.stats import norm\n",
    "\n",
    "import seaborn as sns\n",
    "import matplotlib.pyplot as plt\n",
    "\n",
    "import yfinance as yf\n",
    "\n",
    "import warnings\n",
    "warnings.filterwarnings(\"ignore\")"
   ]
  },
  {
   "cell_type": "markdown",
   "id": "6b3a01ce",
   "metadata": {},
   "source": [
    "### Data Retrieval"
   ]
  },
  {
   "cell_type": "markdown",
   "id": "c8482898",
   "metadata": {},
   "source": [
    "Using **yfinance**, a popular library for fetching data from yahoo finance to retreive company stock price. Using the adjusted closing price for the calculations. The retrieved companies are as follows:\n",
    "\n",
    "- Shin-Etsu (OTC:SHECY)\n",
    "- Taiwan Semiconductor Manufacturing Company (NASDAQ:TSM)\n",
    "- ON Semicondutor (NASDAQ:ON)\n",
    "- Intel Corporation (NASDAQ:INTC)\n",
    "- ASML Holdings NV (NASDAQ:ASML)\n",
    "- Synopsys (NASDAQ:SNPS)\n",
    "\n"
   ]
  },
  {
   "cell_type": "code",
   "execution_count": null,
   "id": "0f31e5cb",
   "metadata": {},
   "outputs": [
    {
     "name": "stdout",
     "output_type": "stream",
     "text": [
      "Years:  17\n"
     ]
    },
    {
     "data": {
      "text/html": [
       "<div>\n",
       "<style scoped>\n",
       "    .dataframe tbody tr th:only-of-type {\n",
       "        vertical-align: middle;\n",
       "    }\n",
       "\n",
       "    .dataframe tbody tr th {\n",
       "        vertical-align: top;\n",
       "    }\n",
       "\n",
       "    .dataframe thead th {\n",
       "        text-align: right;\n",
       "    }\n",
       "</style>\n",
       "<table border=\"1\" class=\"dataframe\">\n",
       "  <thead>\n",
       "    <tr style=\"text-align: right;\">\n",
       "      <th></th>\n",
       "      <th>SHECY</th>\n",
       "      <th>TSM</th>\n",
       "      <th>ON</th>\n",
       "      <th>INTC</th>\n",
       "      <th>ASML</th>\n",
       "      <th>SNPS</th>\n",
       "    </tr>\n",
       "    <tr>\n",
       "      <th>Date</th>\n",
       "      <th></th>\n",
       "      <th></th>\n",
       "      <th></th>\n",
       "      <th></th>\n",
       "      <th></th>\n",
       "      <th></th>\n",
       "    </tr>\n",
       "  </thead>\n",
       "  <tbody>\n",
       "    <tr>\n",
       "      <th>2008-11-25 00:00:00-05:00</th>\n",
       "      <td>4.236433</td>\n",
       "      <td>3.977197</td>\n",
       "      <td>2.760000</td>\n",
       "      <td>8.220891</td>\n",
       "      <td>13.774796</td>\n",
       "      <td>15.440000</td>\n",
       "    </tr>\n",
       "    <tr>\n",
       "      <th>2008-11-26 00:00:00-05:00</th>\n",
       "      <td>3.991552</td>\n",
       "      <td>4.300157</td>\n",
       "      <td>2.880000</td>\n",
       "      <td>8.746824</td>\n",
       "      <td>14.505628</td>\n",
       "      <td>15.940000</td>\n",
       "    </tr>\n",
       "    <tr>\n",
       "      <th>2008-11-28 00:00:00-05:00</th>\n",
       "      <td>3.820136</td>\n",
       "      <td>4.276234</td>\n",
       "      <td>2.920000</td>\n",
       "      <td>8.640388</td>\n",
       "      <td>14.181842</td>\n",
       "      <td>16.030001</td>\n",
       "    </tr>\n",
       "    <tr>\n",
       "      <th>2008-12-01 00:00:00-05:00</th>\n",
       "      <td>3.820136</td>\n",
       "      <td>3.929350</td>\n",
       "      <td>2.680000</td>\n",
       "      <td>7.864007</td>\n",
       "      <td>12.720179</td>\n",
       "      <td>14.880000</td>\n",
       "    </tr>\n",
       "    <tr>\n",
       "      <th>2008-12-02 00:00:00-05:00</th>\n",
       "      <td>3.820136</td>\n",
       "      <td>3.791793</td>\n",
       "      <td>2.870000</td>\n",
       "      <td>8.314807</td>\n",
       "      <td>13.117974</td>\n",
       "      <td>15.520000</td>\n",
       "    </tr>\n",
       "    <tr>\n",
       "      <th>...</th>\n",
       "      <td>...</td>\n",
       "      <td>...</td>\n",
       "      <td>...</td>\n",
       "      <td>...</td>\n",
       "      <td>...</td>\n",
       "      <td>...</td>\n",
       "    </tr>\n",
       "    <tr>\n",
       "      <th>2025-08-07 00:00:00-04:00</th>\n",
       "      <td>14.980000</td>\n",
       "      <td>242.619995</td>\n",
       "      <td>47.590000</td>\n",
       "      <td>19.770000</td>\n",
       "      <td>713.119995</td>\n",
       "      <td>620.330017</td>\n",
       "    </tr>\n",
       "    <tr>\n",
       "      <th>2025-08-08 00:00:00-04:00</th>\n",
       "      <td>15.150000</td>\n",
       "      <td>241.830002</td>\n",
       "      <td>47.660000</td>\n",
       "      <td>19.950001</td>\n",
       "      <td>722.320007</td>\n",
       "      <td>619.419983</td>\n",
       "    </tr>\n",
       "    <tr>\n",
       "      <th>2025-08-11 00:00:00-04:00</th>\n",
       "      <td>15.100000</td>\n",
       "      <td>242.089996</td>\n",
       "      <td>47.099998</td>\n",
       "      <td>20.650000</td>\n",
       "      <td>721.309998</td>\n",
       "      <td>616.119995</td>\n",
       "    </tr>\n",
       "    <tr>\n",
       "      <th>2025-08-12 00:00:00-04:00</th>\n",
       "      <td>15.200000</td>\n",
       "      <td>244.289993</td>\n",
       "      <td>50.009998</td>\n",
       "      <td>21.809999</td>\n",
       "      <td>741.789978</td>\n",
       "      <td>625.799988</td>\n",
       "    </tr>\n",
       "    <tr>\n",
       "      <th>2025-08-13 00:00:00-04:00</th>\n",
       "      <td>15.260000</td>\n",
       "      <td>241.440002</td>\n",
       "      <td>51.889999</td>\n",
       "      <td>22.219999</td>\n",
       "      <td>755.570007</td>\n",
       "      <td>618.570007</td>\n",
       "    </tr>\n",
       "  </tbody>\n",
       "</table>\n",
       "<p>4204 rows × 6 columns</p>\n",
       "</div>"
      ],
      "text/plain": [
       "                               SHECY         TSM         ON       INTC  \\\n",
       "Date                                                                     \n",
       "2008-11-25 00:00:00-05:00   4.236433    3.977197   2.760000   8.220891   \n",
       "2008-11-26 00:00:00-05:00   3.991552    4.300157   2.880000   8.746824   \n",
       "2008-11-28 00:00:00-05:00   3.820136    4.276234   2.920000   8.640388   \n",
       "2008-12-01 00:00:00-05:00   3.820136    3.929350   2.680000   7.864007   \n",
       "2008-12-02 00:00:00-05:00   3.820136    3.791793   2.870000   8.314807   \n",
       "...                              ...         ...        ...        ...   \n",
       "2025-08-07 00:00:00-04:00  14.980000  242.619995  47.590000  19.770000   \n",
       "2025-08-08 00:00:00-04:00  15.150000  241.830002  47.660000  19.950001   \n",
       "2025-08-11 00:00:00-04:00  15.100000  242.089996  47.099998  20.650000   \n",
       "2025-08-12 00:00:00-04:00  15.200000  244.289993  50.009998  21.809999   \n",
       "2025-08-13 00:00:00-04:00  15.260000  241.440002  51.889999  22.219999   \n",
       "\n",
       "                                 ASML        SNPS  \n",
       "Date                                               \n",
       "2008-11-25 00:00:00-05:00   13.774796   15.440000  \n",
       "2008-11-26 00:00:00-05:00   14.505628   15.940000  \n",
       "2008-11-28 00:00:00-05:00   14.181842   16.030001  \n",
       "2008-12-01 00:00:00-05:00   12.720179   14.880000  \n",
       "2008-12-02 00:00:00-05:00   13.117974   15.520000  \n",
       "...                               ...         ...  \n",
       "2025-08-07 00:00:00-04:00  713.119995  620.330017  \n",
       "2025-08-08 00:00:00-04:00  722.320007  619.419983  \n",
       "2025-08-11 00:00:00-04:00  721.309998  616.119995  \n",
       "2025-08-12 00:00:00-04:00  741.789978  625.799988  \n",
       "2025-08-13 00:00:00-04:00  755.570007  618.570007  \n",
       "\n",
       "[4204 rows x 6 columns]"
      ]
     },
     "metadata": {},
     "output_type": "display_data"
    }
   ],
   "source": [
    "tickers = [\"SHECY\",\n",
    "           \"TSM\",\n",
    "           \"ON\",\n",
    "           \"INTC\",\n",
    "           \"ASML\",\n",
    "           \"SNPS\"]\n",
    "\n",
    "aggregated_data = pd.DataFrame()\n",
    "\n",
    "for ticks in tickers:\n",
    "\n",
    "    data = yf.Ticker(ticks).history(period=\"max\", auto_adjust=False)[\"Adj Close\"]\n",
    "\n",
    "    aggregated_data[ticks] = data\n",
    "\n",
    "print(\"Years: \", (aggregated_data.index[-1].year - aggregated_data.index[0].year))\n",
    "display(aggregated_data)"
   ]
  },
  {
   "cell_type": "markdown",
   "id": "5d4d73bd",
   "metadata": {},
   "source": [
    "### Portfolio Value, Weights & Log Returns"
   ]
  },
  {
   "cell_type": "markdown",
   "id": "7dde5cbd",
   "metadata": {},
   "source": [
    "Using a continously compounded return called log returns.\n",
    "\n",
    "$R = $ $\\ln({p_t\\over{p_{t-1}}})$\n",
    "\n",
    "Log returns can be reverted back to simple returns.\n",
    "\n",
    "$e^{R} - 1$\n",
    "\n",
    "With a portfolio worth **$500,000** and is distributed across the six companies.\n",
    "- SHECY -> $500,000\n",
    "- TSM -> $150,000\n",
    "- ON -> $50_000\n",
    "- INTC -> $100,000\n",
    "- ASML -> $100,000\n",
    "- SNPS -> $50_000"
   ]
  },
  {
   "cell_type": "code",
   "execution_count": null,
   "id": "734c3856",
   "metadata": {},
   "outputs": [
    {
     "name": "stdout",
     "output_type": "stream",
     "text": [
      "Portfolio Weights:  [0.1 0.3 0.1 0.2 0.2 0.1]\n"
     ]
    },
    {
     "data": {
      "text/html": [
       "<div>\n",
       "<style scoped>\n",
       "    .dataframe tbody tr th:only-of-type {\n",
       "        vertical-align: middle;\n",
       "    }\n",
       "\n",
       "    .dataframe tbody tr th {\n",
       "        vertical-align: top;\n",
       "    }\n",
       "\n",
       "    .dataframe thead th {\n",
       "        text-align: right;\n",
       "    }\n",
       "</style>\n",
       "<table border=\"1\" class=\"dataframe\">\n",
       "  <thead>\n",
       "    <tr style=\"text-align: right;\">\n",
       "      <th></th>\n",
       "      <th>SHECY</th>\n",
       "      <th>TSM</th>\n",
       "      <th>ON</th>\n",
       "      <th>INTC</th>\n",
       "      <th>ASML</th>\n",
       "      <th>SNPS</th>\n",
       "    </tr>\n",
       "    <tr>\n",
       "      <th>Date</th>\n",
       "      <th></th>\n",
       "      <th></th>\n",
       "      <th></th>\n",
       "      <th></th>\n",
       "      <th></th>\n",
       "      <th></th>\n",
       "    </tr>\n",
       "  </thead>\n",
       "  <tbody>\n",
       "    <tr>\n",
       "      <th>2008-11-26 00:00:00-05:00</th>\n",
       "      <td>-0.005954</td>\n",
       "      <td>0.023422</td>\n",
       "      <td>0.004256</td>\n",
       "      <td>0.012402</td>\n",
       "      <td>0.010339</td>\n",
       "      <td>0.003187</td>\n",
       "    </tr>\n",
       "    <tr>\n",
       "      <th>2008-11-28 00:00:00-05:00</th>\n",
       "      <td>-0.004389</td>\n",
       "      <td>-0.001674</td>\n",
       "      <td>0.001379</td>\n",
       "      <td>-0.002449</td>\n",
       "      <td>-0.004515</td>\n",
       "      <td>0.000563</td>\n",
       "    </tr>\n",
       "    <tr>\n",
       "      <th>2008-12-01 00:00:00-05:00</th>\n",
       "      <td>0.000000</td>\n",
       "      <td>-0.025380</td>\n",
       "      <td>-0.008577</td>\n",
       "      <td>-0.018830</td>\n",
       "      <td>-0.021755</td>\n",
       "      <td>-0.007444</td>\n",
       "    </tr>\n",
       "    <tr>\n",
       "      <th>2008-12-02 00:00:00-05:00</th>\n",
       "      <td>0.000000</td>\n",
       "      <td>-0.010690</td>\n",
       "      <td>0.006850</td>\n",
       "      <td>0.011148</td>\n",
       "      <td>0.006159</td>\n",
       "      <td>0.004211</td>\n",
       "    </tr>\n",
       "    <tr>\n",
       "      <th>2008-12-03 00:00:00-05:00</th>\n",
       "      <td>-0.003258</td>\n",
       "      <td>0.009318</td>\n",
       "      <td>0.013658</td>\n",
       "      <td>0.005643</td>\n",
       "      <td>0.003495</td>\n",
       "      <td>-0.002810</td>\n",
       "    </tr>\n",
       "    <tr>\n",
       "      <th>...</th>\n",
       "      <td>...</td>\n",
       "      <td>...</td>\n",
       "      <td>...</td>\n",
       "      <td>...</td>\n",
       "      <td>...</td>\n",
       "      <td>...</td>\n",
       "    </tr>\n",
       "    <tr>\n",
       "      <th>2025-08-07 00:00:00-04:00</th>\n",
       "      <td>0.001006</td>\n",
       "      <td>0.014243</td>\n",
       "      <td>0.001290</td>\n",
       "      <td>-0.006372</td>\n",
       "      <td>0.006314</td>\n",
       "      <td>-0.000891</td>\n",
       "    </tr>\n",
       "    <tr>\n",
       "      <th>2025-08-08 00:00:00-04:00</th>\n",
       "      <td>0.001128</td>\n",
       "      <td>-0.000978</td>\n",
       "      <td>0.000147</td>\n",
       "      <td>0.001813</td>\n",
       "      <td>0.002564</td>\n",
       "      <td>-0.000147</td>\n",
       "    </tr>\n",
       "    <tr>\n",
       "      <th>2025-08-11 00:00:00-04:00</th>\n",
       "      <td>-0.000331</td>\n",
       "      <td>0.000322</td>\n",
       "      <td>-0.001182</td>\n",
       "      <td>0.006897</td>\n",
       "      <td>-0.000280</td>\n",
       "      <td>-0.000534</td>\n",
       "    </tr>\n",
       "    <tr>\n",
       "      <th>2025-08-12 00:00:00-04:00</th>\n",
       "      <td>0.000660</td>\n",
       "      <td>0.002714</td>\n",
       "      <td>0.005995</td>\n",
       "      <td>0.010931</td>\n",
       "      <td>0.005599</td>\n",
       "      <td>0.001559</td>\n",
       "    </tr>\n",
       "    <tr>\n",
       "      <th>2025-08-13 00:00:00-04:00</th>\n",
       "      <td>0.000394</td>\n",
       "      <td>-0.003521</td>\n",
       "      <td>0.003690</td>\n",
       "      <td>0.003725</td>\n",
       "      <td>0.003681</td>\n",
       "      <td>-0.001162</td>\n",
       "    </tr>\n",
       "  </tbody>\n",
       "</table>\n",
       "<p>4203 rows × 6 columns</p>\n",
       "</div>"
      ],
      "text/plain": [
       "                              SHECY       TSM        ON      INTC      ASML  \\\n",
       "Date                                                                          \n",
       "2008-11-26 00:00:00-05:00 -0.005954  0.023422  0.004256  0.012402  0.010339   \n",
       "2008-11-28 00:00:00-05:00 -0.004389 -0.001674  0.001379 -0.002449 -0.004515   \n",
       "2008-12-01 00:00:00-05:00  0.000000 -0.025380 -0.008577 -0.018830 -0.021755   \n",
       "2008-12-02 00:00:00-05:00  0.000000 -0.010690  0.006850  0.011148  0.006159   \n",
       "2008-12-03 00:00:00-05:00 -0.003258  0.009318  0.013658  0.005643  0.003495   \n",
       "...                             ...       ...       ...       ...       ...   \n",
       "2025-08-07 00:00:00-04:00  0.001006  0.014243  0.001290 -0.006372  0.006314   \n",
       "2025-08-08 00:00:00-04:00  0.001128 -0.000978  0.000147  0.001813  0.002564   \n",
       "2025-08-11 00:00:00-04:00 -0.000331  0.000322 -0.001182  0.006897 -0.000280   \n",
       "2025-08-12 00:00:00-04:00  0.000660  0.002714  0.005995  0.010931  0.005599   \n",
       "2025-08-13 00:00:00-04:00  0.000394 -0.003521  0.003690  0.003725  0.003681   \n",
       "\n",
       "                               SNPS  \n",
       "Date                                 \n",
       "2008-11-26 00:00:00-05:00  0.003187  \n",
       "2008-11-28 00:00:00-05:00  0.000563  \n",
       "2008-12-01 00:00:00-05:00 -0.007444  \n",
       "2008-12-02 00:00:00-05:00  0.004211  \n",
       "2008-12-03 00:00:00-05:00 -0.002810  \n",
       "...                             ...  \n",
       "2025-08-07 00:00:00-04:00 -0.000891  \n",
       "2025-08-08 00:00:00-04:00 -0.000147  \n",
       "2025-08-11 00:00:00-04:00 -0.000534  \n",
       "2025-08-12 00:00:00-04:00  0.001559  \n",
       "2025-08-13 00:00:00-04:00 -0.001162  \n",
       "\n",
       "[4203 rows x 6 columns]"
      ]
     },
     "metadata": {},
     "output_type": "display_data"
    }
   ],
   "source": [
    "portfolio_value = 500_000\n",
    "\n",
    "portfolio_weights = np.array([50_000/portfolio_value,\n",
    "                     150_000/portfolio_value,\n",
    "                     50_000/portfolio_value,\n",
    "                     100_000/portfolio_value,\n",
    "                     100_000/portfolio_value,\n",
    "                     50_000/portfolio_value])\n",
    "\n",
    "log_returns = (np.log(\n",
    "    aggregated_data / aggregated_data.shift(1)) * portfolio_weights).dropna()\n",
    "\n",
    "print(\"Portfolio Weights: \", portfolio_weights)\n",
    "display(log_returns)"
   ]
  },
  {
   "cell_type": "markdown",
   "id": "3925fc02",
   "metadata": {},
   "source": [
    "### Dollar Log PnL"
   ]
  },
  {
   "cell_type": "code",
   "execution_count": 17,
   "id": "b96a2184",
   "metadata": {},
   "outputs": [
    {
     "data": {
      "text/plain": [
       "Date\n",
       "2008-11-26 00:00:00-05:00    23826.356349\n",
       "2008-11-28 00:00:00-05:00    -5542.088326\n",
       "2008-12-01 00:00:00-05:00   -40992.753697\n",
       "2008-12-02 00:00:00-05:00     8838.627609\n",
       "2008-12-03 00:00:00-05:00    13022.851882\n",
       "                                 ...     \n",
       "2025-08-07 00:00:00-04:00     7795.455707\n",
       "2025-08-08 00:00:00-04:00     2263.311254\n",
       "2025-08-11 00:00:00-04:00     2446.514565\n",
       "2025-08-12 00:00:00-04:00    13728.997013\n",
       "2025-08-13 00:00:00-04:00     3403.912559\n",
       "Length: 4203, dtype: float64"
      ]
     },
     "metadata": {},
     "output_type": "display_data"
    }
   ],
   "source": [
    "dollar_log_pnl = log_returns.sum(axis=1) * portfolio_value\n",
    "\n",
    "display(dollar_log_pnl)"
   ]
  },
  {
   "cell_type": "markdown",
   "id": "12e4fe8c",
   "metadata": {},
   "source": [
    "### One-day Value at Risk"
   ]
  },
  {
   "cell_type": "code",
   "execution_count": 18,
   "id": "999c1ea9",
   "metadata": {},
   "outputs": [
    {
     "name": "stdout",
     "output_type": "stream",
     "text": [
      "One-day 95% VaR: $56,034.34521259189\n",
      "One-day VaR as a Percentage: 11.21%\n"
     ]
    }
   ],
   "source": [
    "confidence_interval = .95\n",
    "\n",
    "var = -np.nanpercentile(dollar_log_pnl, 1-confidence_interval)\n",
    "\n",
    "print(f\"One-day {int(confidence_interval*100)}% VaR: ${var:,}\")\n",
    "print(f\"One-day VaR as a Percentage: {round((var/portfolio_value)*100, 2)}%\", )"
   ]
  },
  {
   "cell_type": "code",
   "execution_count": 19,
   "id": "3a34eea3",
   "metadata": {},
   "outputs": [
    {
     "data": {
      "image/png": "[encoded data removed]",
      "text/plain": [
       "<Figure size 640x480 with 1 Axes>"
      ]
     },
     "metadata": {},
     "output_type": "display_data"
    }
   ],
   "source": [
    "sns.histplot(dollar_log_pnl)\n",
    "plt.axvline(-var, color=\"red\", linestyle=\"--\", label=f\"{confidence_interval*100}%: ${-round(var):,}\")\n",
    "plt.legend()\n",
    "plt.show()"
   ]
  },
  {
   "cell_type": "markdown",
   "id": "3c63c799",
   "metadata": {},
   "source": [
    "### T-period Value at Risk"
   ]
  },
  {
   "cell_type": "code",
   "execution_count": 20,
   "id": "2a731455",
   "metadata": {},
   "outputs": [
    {
     "name": "stdout",
     "output_type": "stream",
     "text": [
      "30-day 95% VaR: $177,691.5034005677\n",
      "30-day VaR as a Percentage: -35.54%\n"
     ]
    }
   ],
   "source": [
    "period = 30\n",
    "confidence_level = .95\n",
    "period_logreturns = dollar_log_pnl.rolling(window=period).sum()\n",
    "\n",
    "var = np.nanpercentile(period_logreturns, 1-confidence_level)\n",
    "\n",
    "print(f\"{period}-day {int(confidence_level*100)}% VaR: ${-var:,}\")\n",
    "print(f\"{period}-day VaR as a Percentage: {round((var/portfolio_value)*100, 2)}%\", )"
   ]
  },
  {
   "cell_type": "code",
   "execution_count": 21,
   "id": "c5a5fae7",
   "metadata": {},
   "outputs": [
    {
     "data": {
      "image/png": "[encoded data removed]",
      "text/plain": [
       "<Figure size 640x480 with 1 Axes>"
      ]
     },
     "metadata": {},
     "output_type": "display_data"
    }
   ],
   "source": [
    "sns.histplot(period_logreturns)\n",
    "plt.axvline(var, color=\"red\",  linestyle=\"--\", label=f\"{confidence_level*100}%: ${round(-var):,}\")\n",
    "plt.legend()\n",
    "plt.show()"
   ]
  },
  {
   "cell_type": "markdown",
   "id": "51a4b461",
   "metadata": {},
   "source": [
    "## Variance-Covariance VaR"
   ]
  },
  {
   "cell_type": "code",
   "execution_count": 9,
   "id": "819d0e62",
   "metadata": {},
   "outputs": [],
   "source": [
    "confidence_level = .95\n",
    "\n",
    "z = norm.ppf(1 - confidence_level)"
   ]
  },
  {
   "cell_type": "code",
   "execution_count": 10,
   "id": "ceb62f9a",
   "metadata": {},
   "outputs": [],
   "source": [
    "covmatrix_logreturns = log_returns.cov()\n",
    "\n",
    "portfolio_std = np.sqrt(np.dot(portfolio_weights.T, np.dot(covmatrix_logreturns, portfolio_weights)))"
   ]
  },
  {
   "cell_type": "code",
   "execution_count": 12,
   "id": "1e20fd68",
   "metadata": {},
   "outputs": [
    {
     "data": {
      "image/png": "[encoded data removed]",
      "text/plain": [
       "<Figure size 640x480 with 1 Axes>"
      ]
     },
     "metadata": {},
     "output_type": "display_data"
    }
   ],
   "source": [
    "x = np.linspace(covmatrix_logreturns.mean() - 3*portfolio_std, covmatrix_logreturns.mean() + 3*portfolio_std, 1000)\n",
    "y = norm.pdf(x, covmatrix_logreturns.mean(), portfolio_std)\n",
    "\n",
    "\n",
    "plt.plot(x, y, label=\"Normal Distribution\")\n",
    "plt.axvline((portfolio_std * z), color=\"red\", linestyle=\"--\", label=f\"VaR (95%): {(portfolio_std * z):.2%}\")\n",
    "\n",
    "x_shade = x[x <= (portfolio_std * z)]\n",
    "y_shade = y[x <= (portfolio_std * z)]\n",
    "\n",
    "# Shade the area under the curve\n",
    "plt.fill_between(x_shade, y_shade, color=\"red\", alpha=0.5, label=f\"Area below {(portfolio_std * z)}\")\n",
    "plt.show()"
   ]
  },
  {
   "cell_type": "code",
   "execution_count": null,
   "id": "f5745891",
   "metadata": {},
   "outputs": [],
   "source": []
  }
 ],
 "metadata": {
  "kernelspec": {
   "display_name": "Python 3",
   "language": "python",
   "name": "python3"
  },
  "language_info": {
   "codemirror_mode": {
    "name": "ipython",
    "version": 3
   },
   "file_extension": ".py",
   "mimetype": "text/x-python",
   "name": "python",
   "nbconvert_exporter": "python",
   "pygments_lexer": "ipython3",
   "version": "3.13.2"
  }
 },
 "nbformat": 4,
 "nbformat_minor": 5
}
